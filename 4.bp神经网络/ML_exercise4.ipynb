{
 "cells": [
  {
   "cell_type": "markdown",
   "metadata": {},
   "source": [
    "## 神经网络解决多分类问题¶\n",
    "## 案例： 手写数字识别\n",
    "## 数据集：ex4data1.mat\n",
    "## 初始参数：ex4weights.mat"
   ]
  },
  {
   "cell_type": "code",
   "execution_count": 1,
   "metadata": {},
   "outputs": [],
   "source": [
    "import numpy as np\n",
    "import scipy.io as sio\n",
    "import matplotlib.pyplot as plt\n",
    "from scipy.optimize import minimize"
   ]
  },
  {
   "cell_type": "code",
   "execution_count": 2,
   "metadata": {},
   "outputs": [],
   "source": [
    "data = sio.loadmat('ex4data1.mat')\n",
    "raw_X = data['X']\n",
    "raw_y = data['y']"
   ]
  },
  {
   "cell_type": "code",
   "execution_count": 3,
   "metadata": {},
   "outputs": [
    {
     "data": {
      "text/plain": [
       "(5000, 401)"
      ]
     },
     "execution_count": 3,
     "metadata": {},
     "output_type": "execute_result"
    }
   ],
   "source": [
    "X = np.insert(raw_X,0,values=1,axis=1)\n",
    "X.shape"
   ]
  },
  {
   "cell_type": "markdown",
   "metadata": {},
   "source": [
    "### 1. 对y进行独热编码处理：one-hot编码"
   ]
  },
  {
   "cell_type": "code",
   "execution_count": 4,
   "metadata": {},
   "outputs": [],
   "source": [
    "def one_hot_encoder(raw_y):\n",
    "    \n",
    "    result = []\n",
    "    \n",
    "    for i in raw_y: # 1-10\n",
    "        y_temp = np.zeros(10)\n",
    "        y_temp[i-1] = 1 \n",
    "        \n",
    "        result.append(y_temp)\n",
    "        \n",
    "    return np.array(result)"
   ]
  },
  {
   "cell_type": "code",
   "execution_count": 5,
   "metadata": {},
   "outputs": [],
   "source": [
    "y = one_hot_encoder(raw_y)"
   ]
  },
  {
   "cell_type": "code",
   "execution_count": 6,
   "metadata": {},
   "outputs": [
    {
     "data": {
      "text/plain": [
       "(5000, 10)"
      ]
     },
     "execution_count": 6,
     "metadata": {},
     "output_type": "execute_result"
    }
   ],
   "source": [
    "y.shape"
   ]
  },
  {
   "cell_type": "code",
   "execution_count": 7,
   "metadata": {},
   "outputs": [
    {
     "data": {
      "text/plain": [
       "((25, 401), (10, 26))"
      ]
     },
     "execution_count": 7,
     "metadata": {},
     "output_type": "execute_result"
    }
   ],
   "source": [
    "theta = sio.loadmat('ex4weights.mat')\n",
    "\n",
    "theta1, theta2 = theta['Theta1'],theta['Theta2']\n",
    "theta1.shape,theta2.shape"
   ]
  },
  {
   "cell_type": "markdown",
   "metadata": {},
   "source": [
    "### 2.序列化权重参数"
   ]
  },
  {
   "cell_type": "code",
   "execution_count": 8,
   "metadata": {},
   "outputs": [],
   "source": [
    "def serialize(a,b):\n",
    "    \n",
    "    return np.append(a.flatten(),b.flatten())"
   ]
  },
  {
   "cell_type": "code",
   "execution_count": 9,
   "metadata": {},
   "outputs": [],
   "source": [
    "theta_serialize = serialize(theta1,theta2)"
   ]
  },
  {
   "cell_type": "code",
   "execution_count": 10,
   "metadata": {},
   "outputs": [
    {
     "data": {
      "text/plain": [
       "(10285,)"
      ]
     },
     "execution_count": 10,
     "metadata": {},
     "output_type": "execute_result"
    }
   ],
   "source": [
    "theta_serialize.shape"
   ]
  },
  {
   "cell_type": "markdown",
   "metadata": {},
   "source": [
    "### 3.解序列化权重参数"
   ]
  },
  {
   "cell_type": "code",
   "execution_count": 11,
   "metadata": {},
   "outputs": [],
   "source": [
    "def deserialize(theta_serialize):\n",
    "    theta1 = theta_serialize[:25*401].reshape(25,401)\n",
    "    theta2 = theta_serialize[25*401:].reshape(10,26)\n",
    "    return theta1,theta2"
   ]
  },
  {
   "cell_type": "code",
   "execution_count": 12,
   "metadata": {},
   "outputs": [],
   "source": [
    "theta1,theta2 = deserialize(theta_serialize)"
   ]
  },
  {
   "cell_type": "code",
   "execution_count": 13,
   "metadata": {},
   "outputs": [
    {
     "data": {
      "text/plain": [
       "((25, 401), (10, 26))"
      ]
     },
     "execution_count": 13,
     "metadata": {},
     "output_type": "execute_result"
    }
   ],
   "source": [
    "theta1.shape,theta2.shape"
   ]
  },
  {
   "cell_type": "markdown",
   "metadata": {},
   "source": [
    "### 4.前向传播"
   ]
  },
  {
   "cell_type": "code",
   "execution_count": 14,
   "metadata": {},
   "outputs": [],
   "source": [
    "def sigmoid(z):\n",
    "    return 1 / (1 + np.exp(-z))"
   ]
  },
  {
   "cell_type": "code",
   "execution_count": 19,
   "metadata": {},
   "outputs": [],
   "source": [
    "def feed_forward(theta_serialize,X):\n",
    "    theta1,theta2 = deserialize(theta_serialize)\n",
    "    \n",
    "    a1 = X\n",
    "    z2 = X@theta1.T\n",
    "    a2 = sigmoid(z2)\n",
    "    a2 = np.insert(a2,0,values=1,axis=1)\n",
    "    z3 = a2@theta2.T\n",
    "    h = sigmoid(z3)#5000*10\n",
    "    \n",
    "    return a1,z2,a2,z3,h"
   ]
  },
  {
   "cell_type": "markdown",
   "metadata": {},
   "source": [
    "### 5.损失函数\n",
    "#### 5-1 不带正则化的损失函数"
   ]
  },
  {
   "cell_type": "code",
   "execution_count": 20,
   "metadata": {},
   "outputs": [],
   "source": [
    "def cost(theta_serialize,X,y):\n",
    "    a1,z2,a2,z3,h = feed_forward(theta_serialize,X)\n",
    "    J = -np.sum(y*np.log(h)+(1-y)*np.log(1-h))/len(X)\n",
    "    \n",
    "    return J"
   ]
  },
  {
   "cell_type": "code",
   "execution_count": 21,
   "metadata": {},
   "outputs": [
    {
     "data": {
      "text/plain": [
       "0.2876291651613189"
      ]
     },
     "execution_count": 21,
     "metadata": {},
     "output_type": "execute_result"
    }
   ],
   "source": [
    "cost(theta_serialize,X,y)"
   ]
  },
  {
   "cell_type": "markdown",
   "metadata": {},
   "source": [
    "### 6-2 带正则化的梯度"
   ]
  },
  {
   "cell_type": "code",
   "execution_count": 24,
   "metadata": {},
   "outputs": [],
   "source": [
    "def reg_cost(theta_serialize,X,y,lamda):\n",
    "    theta1,theta2 = deserialize(theta_serialize)\n",
    "    sum1 = np.sum(np.power(theta1[:,1:],2))\n",
    "    sum2 = np.sum(np.power(theta2[:,1:],2))\n",
    "    reg = (sum1+sum2)*lamda/(2*len(X))\n",
    "    \n",
    "    return reg + cost(theta_serialize,X,y)"
   ]
  },
  {
   "cell_type": "code",
   "execution_count": 25,
   "metadata": {},
   "outputs": [
    {
     "data": {
      "text/plain": [
       "0.38376985909092365"
      ]
     },
     "execution_count": 25,
     "metadata": {},
     "output_type": "execute_result"
    }
   ],
   "source": [
    "lamda = 1\n",
    "reg_cost(theta_serialize,X,y,lamda)"
   ]
  },
  {
   "cell_type": "markdown",
   "metadata": {},
   "source": [
    "## 6.反向传播\n",
    "### 6-1 无正则化的梯度"
   ]
  },
  {
   "cell_type": "code",
   "execution_count": 26,
   "metadata": {},
   "outputs": [],
   "source": [
    "def sigmoid_gradient(z):\n",
    "    return sigmoid(z)*(1-sigmoid(z))"
   ]
  },
  {
   "cell_type": "code",
   "execution_count": 27,
   "metadata": {},
   "outputs": [],
   "source": [
    "def gradient(theta_serialize,X,y):\n",
    "    theta1,theta2 = deserialize(theta_serialize)\n",
    "    a1,z2,a2,z3,h = feed_forward(theta_serialize,X)\n",
    "    d3 = h-y\n",
    "    d2 = d3 @ theta2[:,1:] * sigmoid_gradient(z2)\n",
    "    D2 = (d3.T @ a2) / len(X)\n",
    "    D1 = (d2.T @ a1) / len(X)\n",
    "    return serialize(D1,D2)"
   ]
  },
  {
   "cell_type": "markdown",
   "metadata": {},
   "source": [
    "### 6-2 带正则化的梯度"
   ]
  },
  {
   "cell_type": "code",
   "execution_count": 28,
   "metadata": {},
   "outputs": [],
   "source": [
    "def reg_gradient(theta_serialize,X,y,lamda):\n",
    "    D = gradient(theta_serialize,X,y)\n",
    "    D1,D2 = deserialize(D)\n",
    "    \n",
    "    theta1,theta2 = deserialize(theta_serialize)\n",
    "    D1[:,1:] = D1[:,1:]  + theta1[:,1:] * lamda / len(X)\n",
    "    D2[:,1:] = D2[:,1:]  + theta2[:,1:] * lamda / len(X)\n",
    "    \n",
    "    return serialize(D1,D2)"
   ]
  },
  {
   "cell_type": "markdown",
   "metadata": {},
   "source": [
    "## 7.神经网络优化"
   ]
  },
  {
   "cell_type": "code",
   "execution_count": 29,
   "metadata": {},
   "outputs": [],
   "source": [
    "def nn_training(X,y):\n",
    "    \n",
    "    init_theta = np.random.uniform(-0.5,0.5,10285)\n",
    "    res = minimize(fun =reg_cost,\n",
    "                   x0 = init_theta,\n",
    "                  args = (X,y,lamda),\n",
    "                  method='TNC',\n",
    "                  jac = reg_gradient,\n",
    "                options = {'maxiter':300})\n",
    "    \n",
    "    return res"
   ]
  },
  {
   "cell_type": "code",
   "execution_count": 30,
   "metadata": {},
   "outputs": [],
   "source": [
    "lamda=10\n",
    "res = nn_training(X,y)"
   ]
  },
  {
   "cell_type": "code",
   "execution_count": 31,
   "metadata": {},
   "outputs": [],
   "source": [
    "raw_y = data['y'].reshape(5000,)"
   ]
  },
  {
   "cell_type": "code",
   "execution_count": 35,
   "metadata": {},
   "outputs": [
    {
     "data": {
      "text/plain": [
       "0.9414"
      ]
     },
     "execution_count": 35,
     "metadata": {},
     "output_type": "execute_result"
    }
   ],
   "source": [
    "_,_,_,_,h = feed_forward(res.x,X)\n",
    "y_pred = np.argmax(h,axis=1) + 1\n",
    "acc = np.mean(y_pred == raw_y)\n",
    "\n",
    "acc"
   ]
  },
  {
   "cell_type": "markdown",
   "metadata": {},
   "source": [
    "## 8.可视化隐藏层"
   ]
  },
  {
   "cell_type": "code",
   "execution_count": 33,
   "metadata": {},
   "outputs": [],
   "source": [
    "def plot_hidden_layer(theta):\n",
    "    theta1,_ = deserialize(theta)\n",
    "    hidden_layer = theta1[:,1:] # 25,400\n",
    "    \n",
    "    \n",
    "    fig,ax = plt.subplots(ncols=5,nrows=5,figsize=(8,8),sharex=True,sharey=True)\n",
    "    \n",
    "    for r in range(5):\n",
    "        for c in range(5):\n",
    "            \n",
    "            ax[r,c].imshow(hidden_layer[5 * r + c].reshape(20,20).T,cmap='gray_r')\n",
    "            \n",
    "    \n",
    "    plt.xticks([])\n",
    "    plt.yticks([])\n",
    "    \n",
    "    plt.show"
   ]
  },
  {
   "cell_type": "code",
   "execution_count": 34,
   "metadata": {},
   "outputs": [
    {
     "data": {
      "image/png": "[encoded data removed]",
      "text/plain": [
       "<Figure size 576x576 with 25 Axes>"
      ]
     },
     "metadata": {},
     "output_type": "display_data"
    }
   ],
   "source": [
    "plot_hidden_layer(res.x)"
   ]
  },
  {
   "cell_type": "code",
   "execution_count": null,
   "metadata": {},
   "outputs": [],
   "source": []
  }
 ],
 "metadata": {
  "kernelspec": {
   "display_name": "Python 3",
   "language": "python",
   "name": "python3"
  },
  "language_info": {
   "codemirror_mode": {
    "name": "ipython",
    "version": 3
   },
   "file_extension": ".py",
   "mimetype": "text/x-python",
   "name": "python",
   "nbconvert_exporter": "python",
   "pygments_lexer": "ipython3",
   "version": "3.7.3"
  }
 },
 "nbformat": 4,
 "nbformat_minor": 2
}
